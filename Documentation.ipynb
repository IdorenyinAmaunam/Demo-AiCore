This is a program that accepts a list of five friuts as words, allows you to enter an alphabet as a single character, and then prints at random to the screen any of the given words
